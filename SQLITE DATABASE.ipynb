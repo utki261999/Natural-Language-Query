{
 "cells": [
  {
   "cell_type": "code",
   "execution_count": 1,
   "id": "d0d70e18",
   "metadata": {},
   "outputs": [],
   "source": [
    "import sqlite3"
   ]
  },
  {
   "cell_type": "code",
   "execution_count": 2,
   "id": "f718b6b2",
   "metadata": {},
   "outputs": [],
   "source": [
    "import pandas as pd"
   ]
  },
  {
   "cell_type": "code",
   "execution_count": 3,
   "id": "4391e785",
   "metadata": {},
   "outputs": [],
   "source": [
    "import yfinance as yf"
   ]
  },
  {
   "cell_type": "code",
   "execution_count": 4,
   "id": "306d72fc",
   "metadata": {},
   "outputs": [
    {
     "name": "stdout",
     "output_type": "stream",
     "text": [
      "[*********************100%***********************]  1 of 1 completed\n",
      "[*********************100%***********************]  1 of 1 completed\n",
      "[*********************100%***********************]  1 of 1 completed\n",
      "[*********************100%***********************]  1 of 1 completed\n",
      "[*********************100%***********************]  1 of 1 completed\n"
     ]
    },
    {
     "data": {
      "text/html": [
       "<div>\n",
       "<style scoped>\n",
       "    .dataframe tbody tr th:only-of-type {\n",
       "        vertical-align: middle;\n",
       "    }\n",
       "\n",
       "    .dataframe tbody tr th {\n",
       "        vertical-align: top;\n",
       "    }\n",
       "\n",
       "    .dataframe thead th {\n",
       "        text-align: right;\n",
       "    }\n",
       "</style>\n",
       "<table border=\"1\" class=\"dataframe\">\n",
       "  <thead>\n",
       "    <tr style=\"text-align: right;\">\n",
       "      <th></th>\n",
       "      <th>SPY</th>\n",
       "      <th>TLT</th>\n",
       "      <th>HYG</th>\n",
       "      <th>LQD</th>\n",
       "      <th>VNQ</th>\n",
       "    </tr>\n",
       "    <tr>\n",
       "      <th>Date</th>\n",
       "      <th></th>\n",
       "      <th></th>\n",
       "      <th></th>\n",
       "      <th></th>\n",
       "      <th></th>\n",
       "    </tr>\n",
       "  </thead>\n",
       "  <tbody>\n",
       "    <tr>\n",
       "      <th>2020-01-02</th>\n",
       "      <td>309.694855</td>\n",
       "      <td>129.896439</td>\n",
       "      <td>76.631859</td>\n",
       "      <td>118.172913</td>\n",
       "      <td>82.446083</td>\n",
       "    </tr>\n",
       "    <tr>\n",
       "      <th>2020-01-03</th>\n",
       "      <td>307.349854</td>\n",
       "      <td>131.896866</td>\n",
       "      <td>76.553757</td>\n",
       "      <td>118.578415</td>\n",
       "      <td>82.958549</td>\n",
       "    </tr>\n",
       "    <tr>\n",
       "      <th>2020-01-06</th>\n",
       "      <td>308.522339</td>\n",
       "      <td>131.147903</td>\n",
       "      <td>76.475639</td>\n",
       "      <td>118.182152</td>\n",
       "      <td>83.057465</td>\n",
       "    </tr>\n",
       "    <tr>\n",
       "      <th>2020-01-07</th>\n",
       "      <td>307.654907</td>\n",
       "      <td>130.503189</td>\n",
       "      <td>76.406227</td>\n",
       "      <td>117.878014</td>\n",
       "      <td>82.131401</td>\n",
       "    </tr>\n",
       "    <tr>\n",
       "      <th>2020-01-08</th>\n",
       "      <td>309.294556</td>\n",
       "      <td>129.640442</td>\n",
       "      <td>76.475639</td>\n",
       "      <td>117.712166</td>\n",
       "      <td>82.383156</td>\n",
       "    </tr>\n",
       "  </tbody>\n",
       "</table>\n",
       "</div>"
      ],
      "text/plain": [
       "                   SPY         TLT        HYG         LQD        VNQ\n",
       "Date                                                                \n",
       "2020-01-02  309.694855  129.896439  76.631859  118.172913  82.446083\n",
       "2020-01-03  307.349854  131.896866  76.553757  118.578415  82.958549\n",
       "2020-01-06  308.522339  131.147903  76.475639  118.182152  83.057465\n",
       "2020-01-07  307.654907  130.503189  76.406227  117.878014  82.131401\n",
       "2020-01-08  309.294556  129.640442  76.475639  117.712166  82.383156"
      ]
     },
     "execution_count": 4,
     "metadata": {},
     "output_type": "execute_result"
    }
   ],
   "source": [
    "start_date = '2020-01-01'\n",
    "end_date = '2023-01-23'\n",
    "\n",
    "# Define the ticker list\n",
    "tickers_list = ['SPY', 'TLT', 'HYG', 'LQD','VNQ']\n",
    "\n",
    "# Create placeholder for data\n",
    "data = pd.DataFrame(columns=tickers_list)\n",
    "\n",
    "# Fetch the data\n",
    "for ticker in tickers_list:\n",
    "    data[ticker] = yf.download(ticker, \n",
    "                               start_date,\n",
    "                               end_date)['Adj Close']\n",
    "    \n",
    "# Print first 5 rows of the data\n",
    "data.head()"
   ]
  },
  {
   "cell_type": "code",
   "execution_count": 6,
   "id": "784d7f9c",
   "metadata": {},
   "outputs": [],
   "source": [
    "def insert_data(data):\n",
    "    conn = sqlite3.connect('example.db')\n",
    "    c = conn.cursor()\n",
    "    data.to_sql('example_table', conn, if_exists='append', index=False)\n",
    "    conn.commit()\n",
    "    conn.close()\n",
    "\n",
    "insert_data(data)"
   ]
  },
  {
   "cell_type": "code",
   "execution_count": null,
   "id": "131e1363",
   "metadata": {},
   "outputs": [],
   "source": []
  }
 ],
 "metadata": {
  "kernelspec": {
   "display_name": "Python 3",
   "language": "python",
   "name": "python3"
  },
  "language_info": {
   "codemirror_mode": {
    "name": "ipython",
    "version": 3
   },
   "file_extension": ".py",
   "mimetype": "text/x-python",
   "name": "python",
   "nbconvert_exporter": "python",
   "pygments_lexer": "ipython3",
   "version": "3.8.8"
  }
 },
 "nbformat": 4,
 "nbformat_minor": 5
}
