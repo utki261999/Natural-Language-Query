{
 "cells": [
  {
   "cell_type": "code",
   "execution_count": 2,
   "id": "c05c5fc4",
   "metadata": {},
   "outputs": [],
   "source": [
    "import sqlite3"
   ]
  },
  {
   "cell_type": "code",
   "execution_count": 3,
   "id": "31a56214",
   "metadata": {},
   "outputs": [],
   "source": [
    "\n",
    "conn = sqlite3.connect(\"etfs.db\")"
   ]
  },
  {
   "cell_type": "code",
   "execution_count": 4,
   "id": "44f63a56",
   "metadata": {},
   "outputs": [],
   "source": [
    "def top_performing_ETF_last_year():\n",
    "    query = \"\"\"\n",
    "    SELECT *\n",
    "    FROM monthly_returns\n",
    "    WHERE date >= '2022-01-01'\n",
    "    ORDER BY SPY DESC\n",
    "    LIMIT 1\n",
    "    \"\"\"\n",
    "    result =pd.read_sql_query(query, conn)\n",
    "    return result.columns[2]\n",
    "\n",
    "def best_two_ETFs_last_month():\n",
    "    query = \"\"\"\n",
    "    SELECT *\n",
    "    FROM monthly_returns\n",
    "    WHERE date >= '2022-12-01'\n",
    "    ORDER BY SPY DESC\n",
    "    LIMIT 2\n",
    "    \"\"\"\n",
    "    result = pd.read_sql_query(query, conn)\n",
    "    return result.columns[2:4].tolist()\n",
    "\n",
    "def did_SPY_outperform_TLT_last_year():\n",
    "    query = \"\"\"\n",
    "    SELECT SPY, TLT\n",
    "    FROM monthly_returns\n",
    "    WHERE date >= '2022-01-01'\n",
    "    \"\"\"\n",
    "    result = pd.read_sql_query(query, conn)\n",
    "    if result[\"SPY\"].mean() > result[\"TLT\"].mean():\n",
    "        return \"Yes\"\n",
    "    else:\n",
    "        return \"No\""
   ]
  },
  {
   "cell_type": "code",
   "execution_count": null,
   "id": "8fe983ad",
   "metadata": {},
   "outputs": [],
   "source": []
  }
 ],
 "metadata": {
  "kernelspec": {
   "display_name": "Python 3",
   "language": "python",
   "name": "python3"
  },
  "language_info": {
   "codemirror_mode": {
    "name": "ipython",
    "version": 3
   },
   "file_extension": ".py",
   "mimetype": "text/x-python",
   "name": "python",
   "nbconvert_exporter": "python",
   "pygments_lexer": "ipython3",
   "version": "3.8.8"
  }
 },
 "nbformat": 4,
 "nbformat_minor": 5
}
