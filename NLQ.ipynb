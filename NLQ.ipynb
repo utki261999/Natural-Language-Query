{
 "cells": [
  {
   "cell_type": "code",
   "execution_count": 3,
   "id": "8e2b4434",
   "metadata": {},
   "outputs": [
    {
     "name": "stdout",
     "output_type": "stream",
     "text": [
      "[*********************100%***********************]  5 of 5 completed\n"
     ]
    }
   ],
   "source": [
    "import yfinance as yf\n",
    "import pandas as pd\n",
    "import sqlite3\n",
    "\n",
    "# Download ETF prices\n",
    "etfs = [\"SPY\", \"TLT\", \"HYG\", \"LQD\", \"VNQ\"]\n",
    "data = yf.download(etfs, start=\"2020-01-01\", end=\"2023-01-01\")[\"Adj Close\"]\n",
    "\n",
    "# Calculate monthly returns\n",
    "monthly_returns = data.resample(\"M\").last().pct_change().dropna()\n",
    "\n",
    "# Store monthly returns in SQLite database\n",
    "conn = sqlite3.connect(\"etfs.db\")\n",
    "monthly_returns.to_sql(\"monthly_returns\", conn, if_exists=\"replace\")\n"
   ]
  },
  {
   "cell_type": "code",
   "execution_count": 4,
   "id": "f4ef782a",
   "metadata": {},
   "outputs": [],
   "source": [
    "from nltk.classify import NaiveBayesClassifier\n",
    "from nltk.tokenize import word_tokenize"
   ]
  },
  {
   "cell_type": "code",
   "execution_count": 5,
   "id": "98a64f32",
   "metadata": {},
   "outputs": [],
   "source": [
    "import nltk\n",
    "from nltk.tokenize import word_tokenize"
   ]
  },
  {
   "cell_type": "code",
   "execution_count": 8,
   "id": "481ed2b6",
   "metadata": {},
   "outputs": [
    {
     "name": "stderr",
     "output_type": "stream",
     "text": [
      "[nltk_data] Downloading package punkt to\n",
      "[nltk_data]     C:\\Users\\Utkarsh\\AppData\\Roaming\\nltk_data...\n",
      "[nltk_data]   Package punkt is already up-to-date!\n"
     ]
    },
    {
     "data": {
      "text/plain": [
       "True"
      ]
     },
     "execution_count": 8,
     "metadata": {},
     "output_type": "execute_result"
    }
   ],
   "source": [
    "nltk.download('punkt')"
   ]
  },
  {
   "cell_type": "code",
   "execution_count": 6,
   "id": "719c1b9c",
   "metadata": {},
   "outputs": [],
   "source": [
    "def process_input(input_text):\n",
    "    # Tokenize the input text\n",
    "    words = word_tokenize(input_text)\n",
    "    words_set = set(words)\n",
    "    conn = sqlite3.connect('etfs.db')\n",
    "    if \"top\" in words_set and \"year\" in words_set:\n",
    "        query = \"\"\"\n",
    "        SELECT *\n",
    "        FROM monthly_returns\n",
    "        WHERE date >= '2022-01-01'\n",
    "        ORDER BY SPY DESC\n",
    "        LIMIT 1\n",
    "        \"\"\"\n",
    "        result = pd.read_sql_query(query, conn)\n",
    "        return result.columns[2]\n",
    "    elif \"best\" in words_set:\n",
    "        query = \"\"\"\n",
    "        SELECT *\n",
    "        FROM monthly_returns\n",
    "        WHERE date >= '2022-12-01'\n",
    "        ORDER BY SPY DESC\n",
    "        LIMIT 2\n",
    "        \"\"\"\n",
    "        result = pd.read_sql_query(query, conn)\n",
    "        return result.columns[2:4].tolist()\n",
    "    else:\n",
    "        query = \"\"\"\n",
    "        SELECT SPY, TLT\n",
    "        FROM monthly_returns\n",
    "        WHERE date >= '2022-01-01'\n",
    "        \"\"\"\n",
    "        result = pd.read_sql_query(query, conn)\n",
    "        if result[\"SPY\"].mean() > result[\"TLT\"].mean():\n",
    "            return \"Yes\"\n",
    "        else:\n",
    "            return \"No\"\n",
    "        \n",
    "\n",
    "\n",
    "\n",
    "    \n",
    "    "
   ]
  },
  {
   "cell_type": "code",
   "execution_count": 7,
   "id": "eab21dde",
   "metadata": {},
   "outputs": [
    {
     "name": "stdout",
     "output_type": "stream",
     "text": [
      "LQD\n"
     ]
    }
   ],
   "source": [
    "question1 = 'top performing ETF last year'\n",
    "print(process_input(question1))"
   ]
  },
  {
   "cell_type": "code",
   "execution_count": null,
   "id": "49fbe658",
   "metadata": {},
   "outputs": [],
   "source": []
  }
 ],
 "metadata": {
  "kernelspec": {
   "display_name": "Python 3",
   "language": "python",
   "name": "python3"
  },
  "language_info": {
   "codemirror_mode": {
    "name": "ipython",
    "version": 3
   },
   "file_extension": ".py",
   "mimetype": "text/x-python",
   "name": "python",
   "nbconvert_exporter": "python",
   "pygments_lexer": "ipython3",
   "version": "3.8.8"
  }
 },
 "nbformat": 4,
 "nbformat_minor": 5
}
