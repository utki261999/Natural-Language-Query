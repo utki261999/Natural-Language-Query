{
 "cells": [
  {
   "cell_type": "code",
   "execution_count": 2,
   "id": "3aa6981b",
   "metadata": {},
   "outputs": [
    {
     "name": "stdout",
     "output_type": "stream",
     "text": [
      "[*********************100%***********************]  5 of 5 completed\n"
     ]
    }
   ],
   "source": [
    "import yfinance as yf\n",
    "import pandas as pd\n",
    "import sqlite3\n",
    "\n",
    "# Download ETF prices\n",
    "etfs = [\"SPY\", \"TLT\", \"HYG\", \"LQD\", \"VNQ\"]\n",
    "data = yf.download(etfs, start=\"2020-01-01\", end=\"2023-01-01\")[\"Adj Close\"]\n",
    "\n",
    "# Calculate monthly returns\n",
    "monthly_returns = data.resample(\"M\").last().pct_change().dropna()\n",
    "\n",
    "# Store monthly returns in SQLite database\n",
    "conn = sqlite3.connect(\"etfs.db\")\n",
    "monthly_returns.to_sql(\"monthly_returns\", conn, if_exists=\"replace\")\n"
   ]
  },
  {
   "cell_type": "code",
   "execution_count": null,
   "id": "ee4f374a",
   "metadata": {},
   "outputs": [],
   "source": []
  }
 ],
 "metadata": {
  "kernelspec": {
   "display_name": "Python 3",
   "language": "python",
   "name": "python3"
  },
  "language_info": {
   "codemirror_mode": {
    "name": "ipython",
    "version": 3
   },
   "file_extension": ".py",
   "mimetype": "text/x-python",
   "name": "python",
   "nbconvert_exporter": "python",
   "pygments_lexer": "ipython3",
   "version": "3.8.8"
  }
 },
 "nbformat": 4,
 "nbformat_minor": 5
}
