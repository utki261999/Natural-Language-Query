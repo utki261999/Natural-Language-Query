{
 "cells": [
  {
   "cell_type": "code",
   "execution_count": 2,
   "id": "1b39b5dd",
   "metadata": {},
   "outputs": [],
   "source": [
    "from NLQ import *"
   ]
  },
  {
   "cell_type": "code",
   "execution_count": 4,
   "id": "79ec9b59",
   "metadata": {},
   "outputs": [],
   "source": [
    "import tkinter as tk"
   ]
  },
  {
   "cell_type": "code",
   "execution_count": 5,
   "id": "b6db96cf",
   "metadata": {},
   "outputs": [],
   "source": [
    "def show_result():\n",
    "    user_query = input_field.get()\n",
    "    result = ask_question(user_query)\n",
    "    output_label.config(text=result)"
   ]
  },
  {
   "cell_type": "code",
   "execution_count": null,
   "id": "c93f8c78",
   "metadata": {},
   "outputs": [],
   "source": [
    "root = tk.Tk()\n",
    "root['bg'] = '#3b5998'\n",
    "root.title(\"ETF Database Information\")\n",
    "\n",
    "input_field = tk.Entry(root,width=40)\n",
    "input_field.pack()\n",
    "\n",
    "submit_button = tk.Button(root, text=\"Submit\",font=(\"Helvetica\", 16),pady=10,command=show_result)\n",
    "submit_button.pack(side='top', pady=20, padx=20)\n",
    "\n",
    "output_label = tk.Label(root, text=\"\",font=(\"Helvetica\", 16),pady=10)\n",
    "output_label.pack()\n",
    "\n",
    "root.mainloop()"
   ]
  },
  {
   "cell_type": "code",
   "execution_count": null,
   "id": "2b10d8d4",
   "metadata": {},
   "outputs": [],
   "source": []
  }
 ],
 "metadata": {
  "kernelspec": {
   "display_name": "Python 3",
   "language": "python",
   "name": "python3"
  },
  "language_info": {
   "codemirror_mode": {
    "name": "ipython",
    "version": 3
   },
   "file_extension": ".py",
   "mimetype": "text/x-python",
   "name": "python",
   "nbconvert_exporter": "python",
   "pygments_lexer": "ipython3",
   "version": "3.8.8"
  }
 },
 "nbformat": 4,
 "nbformat_minor": 5
}
